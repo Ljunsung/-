{
  "nbformat": 4,
  "nbformat_minor": 0,
  "metadata": {
    "colab": {
      "name": "공학수학 과제.ipynb",
      "provenance": [],
      "collapsed_sections": [],
      "include_colab_link": true
    },
    "kernelspec": {
      "name": "python3",
      "display_name": "Python 3"
    }
  },
  "cells": [
    {
      "cell_type": "markdown",
      "metadata": {
        "id": "view-in-github",
        "colab_type": "text"
      },
      "source": [
        "<a href=\"https://colab.research.google.com/github/Ljunsung/-/blob/master/%EA%B3%B5%ED%95%99%EC%88%98%ED%95%99_%EA%B3%BC%EC%A0%9C.ipynb\" target=\"_parent\"><img src=\"https://colab.research.google.com/assets/colab-badge.svg\" alt=\"Open In Colab\"/></a>"
      ]
    },
    {
      "cell_type": "markdown",
      "metadata": {
        "id": "AgTfaFBIKV8G",
        "colab_type": "text"
      },
      "source": [
        "## Laplace's Equation in the Sphere"
      ]
    },
    {
      "cell_type": "markdown",
      "metadata": {
        "id": "1mLZKPsWMg5W",
        "colab_type": "text"
      },
      "source": [
        "We consider the boundary value problem\n",
        "\n",
        ">$\\begin{align*}\n",
        " u_{rr} +\\frac{2}{r} u_r &+\\frac{1}{r^2}u_{\\phi\\phi} +\\frac{\\cot\\phi}{r^2} u_{\\phi} +\\frac{1}{r^2\\sin^2\\phi}u_{\\theta\\theta} = 0, \\;\\; r < R \\\\ \n",
        " u(R,\\phi,\\theta) &= g(\\phi,\\theta)\\\\ \n",
        "\\end{align*}$\n",
        "\n",
        "in a sphere of radius $R$. (a) Solve this problem by separation of variables, (b) derive $K(r,\\phi,\\theta; R,\\varphi,\\vartheta)$ in the equivalent integral formula:\n",
        "\n",
        ">$\\displaystyle u(r,\\phi,\\theta) = \\int_0^{2\\pi} \\int_0^\\pi K(r,\\phi,\\theta; R,\\varphi,\\vartheta)\\, g(\\varphi,\\vartheta) \\sin\\varphi \\,d\\varphi \\, d\\vartheta$"
      ]
    },
    {
      "cell_type": "markdown",
      "metadata": {
        "id": "H-JiI3fLMhO1",
        "colab_type": "text"
      },
      "source": [
        "### <풀이>"
      ]
    },
    {
      "cell_type": "markdown",
      "metadata": {
        "id": "VVx201MXMhkJ",
        "colab_type": "text"
      },
      "source": [
        ">$\\displaystyle \\left( r^2 u_r \\right)_r +\\frac{1}{\\sin\\phi} \\left( \\sin\\phi\\, u_\\phi \\right)_\\phi +\\frac{1}{\\sin^2\\phi} u_{\\theta\\theta} = 0$\\\n",
        "$\\begin{align*}u(r,\\theta,\\phi)=R(r)\\Theta(\\theta)\\Phi(\\phi)\\end{align*}$\n",
        "$\\displaystyle 분리 상수를 {l(l+1)}이라고 한다.$\\\n",
        "$\\displaystyle R(r)=\\frac{a}{r^l} +b^{-(l+1)}$\n",
        ">$\\displaystyle u(r,\\phi)=R(r)\\Phi(\\phi)$\n",
        "\n",
        "and arrive at the two ODEs\n",
        "\n",
        ">$\\begin{align*}\n",
        " &\\left(\\sin\\phi\\, \\Phi' \\right)' +\\lambda \\sin\\phi \\Phi= 0\\;\\;\\;\\text{Legendre's equation}\\\\ \n",
        " &r^2R'' +2rR' -\\lambda R = 0 \\;\\;\\; \\text{Euler's equation}\n",
        "\\end{align*}$\n",
        "\n",
        "Legendre's equation isn't easy; the general strategy in solving this equation is to make the substitution\n",
        "\n",
        ">$x=\\cos\\phi$\n",
        "\n",
        "Making this change of variable gives rise to the new Legendre's equation\n",
        "\n",
        ">$\\begin{align*}\n",
        " \\left(\\sin\\phi\\, \\Phi' \\right)' &+\\lambda \\sin\\phi \\Phi= 0\\\\ \n",
        " & \\Downarrow \\;\\;x=\\cos\\phi\\\\\n",
        " \\Phi'&=\\frac{d\\Phi}{dx} \\frac{dx}{d\\phi}=-\\sin\\phi\\frac{d\\Phi}{dx} \\\\\n",
        " \\left(\\sin\\phi\\, \\Phi' \\right)'&=-\\frac{d}{dx}\\left(\\sin^2\\phi \\frac{d\\Phi}{dx} \\right) \\frac{dx}{d\\phi}\n",
        "  =\\left(\\sin^2\\phi \\frac{d^2\\Phi}{dx^2} +2\\sin\\phi\\cos\\phi \\frac{d\\phi}{dx}\\frac{d\\Phi}{dx} \\right)\\sin\\phi \\\\\n",
        "  &=\\left[ (1 -x^2) \\frac{d^2\\Phi}{dx^2} -2x\\frac{d\\Phi}{dx} \\right] \\sin\\phi \\\\\n",
        " &\\Downarrow \\\\\n",
        " (1 -x^2) \\frac{d^2\\Phi}{dx^2} &-2x\\frac{d\\Phi}{dx} +\\lambda \\Phi = 0, \\;\\;\\; -1 \\leq x \\leq 1 \\\\\n",
        " &\\Downarrow \\\\\n",
        " \\frac{d}{dx} \\left[ (1 -x^2) \\frac{d\\Phi}{dx} \\right] &+\\lambda \\Phi = 0\n",
        "\\end{align*}$\n",
        "\n",
        "One of the difficulties in this equation is that the coefficient $(1-x^2)$ of $d^2\\Phi/dx^2$ is zero at the ends of the domain $-1 \\leq x \\leq 1$. Equations like this are called singular differential equations. We arrive at a very interesting conclusion. The only bounded solutions of Legendre's equation occur when $\\lambda=n(n +1)$, $n=0,1,2,\\cdots$ and these solutions are polynomials $P_n(x)$ - Legendre polynomials\n",
        "\n",
        ">$\\begin{align*}\n",
        " &P_0(x) = 1 \\\\ \n",
        " &P_1(x) = x \\\\ \n",
        " &P_2(x) = \\frac{1}{2}(3x^2 -1) \\\\ \n",
        " &P_3(x) = \\frac{1}{2}(5x^3 -3x) \\\\\n",
        " &\\;\\;\\;\\;\\;\\;\\;\\; \\vdots \\\\\n",
        " &P_n(x) = \\frac{1}{2^n n!} \\frac{d^n}{dx^n} \\left[ (x^2 -1)^n \\right]\n",
        "\\end{align*}$\\\n",
        "$\\begin{align*}\n",
        "\\Theta(\\theta)=A_me^{im\\theta}\\\\\n",
        "u(r,\\theta,\\phi)=\\sum_{l=0}^\\infty\\sum_{m=-l}^l (A_{lm}r^l+\\frac{B_{lm}}{r^{l+1}}) {P_l}^m(\\cos\\phi)e^{im\\theta}\n",
        "\\end{align*}$\n",
        "\n",
        "\n",
        "\n",
        "\n",
        "\n",
        "\n",
        "\n"
      ]
    },
    {
      "cell_type": "markdown",
      "metadata": {
        "id": "vmBSJiWjMhwN",
        "colab_type": "text"
      },
      "source": [
        "## Poisson's Equation for the Sphere"
      ]
    },
    {
      "cell_type": "markdown",
      "metadata": {
        "id": "epf796GhM0ZQ",
        "colab_type": "text"
      },
      "source": [
        "We consider the problem\n",
        "\n",
        ">$\\begin{align*}\n",
        " u_{rr} +\\frac{2}{r} u_r &+\\frac{1}{r^2}u_{\\phi\\phi} +\\frac{\\cot\\phi}{r^2} u_{\\phi} +\\frac{1}{r^2\\sin^2\\phi}u_{\\theta\\theta} = -F(r,\\phi,\\theta), \\;\\; r < R \\\\ \n",
        " u(R,\\phi,\\theta) &= 0\\\\ \n",
        "\\end{align*}$\n",
        "\n",
        "(a) solve by taking the finite Fourier Transforms, (b) derive $G(r,\\phi,\\theta; \\rho,\\varphi,\\vartheta)$ in the equivalent integral formula:\n",
        "\n",
        ">$\\displaystyle u(r,\\phi,\\theta) = \\int_0^{2\\pi} \\int_0^\\pi \\int_0^R G(r,\\phi,\\theta; \\rho,\\varphi,\\vartheta)\\, F(\\rho, \\varphi,\\vartheta) \\,\\rho^2 \\sin\\varphi \\,d\\rho \\,d\\varphi \\, d\\vartheta$"
      ]
    },
    {
      "cell_type": "markdown",
      "metadata": {
        "id": "Ca7ao_KpNEIJ",
        "colab_type": "text"
      },
      "source": [
        "### <풀이>"
      ]
    },
    {
      "cell_type": "markdown",
      "metadata": {
        "id": "RxHgWiRZS9as",
        "colab_type": "text"
      },
      "source": [
        "A common problem in applied mathematics is to find the potential in some region of space in response to a forcing term $f$. A typical example would be to find the potential inside a circle in two dimensions that satisfies\n",
        "\n",
        ">$\\displaystyle u_{rr} +\\frac{1}{r}u_r + \\frac{1}{r^2} u_{\\theta\\theta}=f(r,\\theta), \\;\\;\\;0 < r < 1$\n",
        "\n",
        ">$\\displaystyle u(1,\\theta) = 0, \\;\\;\\; 0 \\leq \\theta < 2\\pi$\n",
        "\n",
        "Note that we have chosen the boundary values to be zero. If we wanted to solve the general case, where both the equation and BC were nonhomogeneous, we could add the Poisson integral formula from Lesson 32 to the solution from this Lesson\n",
        "\n",
        "In order to gain a little intuition about nonhomogeneous differential equations, let's consider graphing the solution to the following Poisson's equation:\n",
        "\n",
        ">$\\displaystyle u_{rr} +\\frac{1}{r}u_r + \\frac{1}{r^2} u_{\\theta\\theta}=-q, \\;\\;\\;0 < r < 1$\n",
        "\n",
        ">$\\displaystyle u(1,\\theta) = 0, \\;\\;\\; 0 \\leq \\theta < 2\\pi$\n",
        "\n",
        "Here, the potential is fixed at zero on the boundary, and the Laplacian of $u$ is always equal to $-q$ inside the circle. Since $\\nabla^2 u(p)$ measures the difference between $u(p)$ and the average of its neighbors, it will look like a thin membrane fixed at the boundary that was continuously being pushed up by a stream of air from below.\n",
        "In solving a nonhomogeneous linear equation, it is sufficient to solve the equation with a point source since we can find the solution to the general problem by summing the responses to point sources. Our goal here is to find the potential in some region of space due to a point source (or sink).\n",
        "\n",
        "Suppose we have a single point source of magnitude $q$ located at the origin. It is clear that the heat will flow outward along radial lines, and, hence, if we compute the total outward flux across a circle of radius $r$, we have\n",
        "\n",
        ">$\\displaystyle \\text{Total outward flux across the circle }=-\\int_0^{2\\pi} u_r(r) r\\,d\\theta = -2\\pi r u_r(r)$\n",
        "\n",
        "But the outward flux must be equal to the heat generated within the circle (conservation of energy), so we have\n",
        "\n",
        ">$-2\\pi r u_r(r) = q$\n",
        "\n",
        "Solving this simple differential equation for $u_r(r)$, we get\n",
        "\n",
        ">$\\displaystyle u(r)=\\frac{q}{2\\pi} \\ln \\frac{1}{r}$\n",
        "\n",
        "A sink, on the other hand, is represented by a negative source, and so a sink with magnitude $-q$ would give rise to a potential field\n",
        "\n",
        ">$\\displaystyle u(r)=-\\frac{q}{2\\pi} \\ln \\frac{1}{r}$\n"
      ]
    }
  ]
}